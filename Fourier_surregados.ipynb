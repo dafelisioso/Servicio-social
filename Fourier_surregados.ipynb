{
 "cells": [
  {
   "cell_type": "code",
   "execution_count": null,
   "metadata": {},
   "outputs": [],
   "source": []
  },
  {
   "cell_type": "code",
   "execution_count": null,
   "metadata": {},
   "outputs": [],
   "source": [
    "import numpy as np\n",
    "import matplotlib.pyplot as plt\n",
    "\n",
    "# Asumiendo que surrogates_data es tu array de datos (52,053 días y 100 columnas de subrogados)\n",
    "n_days, n_surrogates = surrogates_data.shape\n",
    "n_decades = n_days // 3650  # Aproximadamente una década\n",
    "\n",
    "# Inicializar listas para guardar los resultados\n",
    "slopes_segment_1 = []\n",
    "slopes_segment_2 = []\n",
    "\n",
    "plt.figure(figsize=(20, 10))\n",
    "\n",
    "for i in range(n_decades):\n",
    "    start_idx = i * 3650\n",
    "    end_idx = start_idx + 3650\n",
    "    decade_data = surrogates_data[start_idx:end_idx, :]\n",
    "\n",
    "    # Calcular el espectro de potencia para cada subrogado en la década\n",
    "    power_spectra = []\n",
    "    for surrogate in range(n_surrogates):\n",
    "        fft_result = np.fft.fft(decade_data[:, surrogate])\n",
    "        power_spectrum = np.abs(fft_result) ** 2\n",
    "        frequencies = np.fft.fftfreq(len(fft_result), d=1)\n",
    "        positive_freqs = frequencies > 0\n",
    "        power_spectra.append(power_spectrum[positive_freqs])\n",
    "\n",
    "    # Media del espectro de potencia\n",
    "    avg_power_spectrum = np.mean(power_spectra, axis=0)\n",
    "\n",
    "    # Graficar el espectro de potencia medio\n",
    "    plt.subplot(n_decades // 2, 2, i + 1)\n",
    "    plt.loglog(frequencies[positive_freqs], avg_power_spectrum, label='Decade {}'.format(1900 + i * 10))\n",
    "    plt.xlabel('Frequency (1/day)')\n",
    "    plt.ylabel('Power Spectrum')\n",
    "    plt.legend()\n",
    "\n",
    "plt.tight_layout()\n",
    "plt.show()\n"
   ]
  }
 ],
 "metadata": {
  "language_info": {
   "name": "python"
  }
 },
 "nbformat": 4,
 "nbformat_minor": 2
}
